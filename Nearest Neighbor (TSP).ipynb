{
 "cells": [
  {
   "cell_type": "code",
   "execution_count": 1,
   "id": "498668ac",
   "metadata": {},
   "outputs": [],
   "source": [
    "import pandas as pd\n",
    "import numpy as np\n",
    "import matplotlib.pyplot as plt\n",
    "import math"
   ]
  },
  {
   "cell_type": "code",
   "execution_count": 2,
   "id": "900107d4",
   "metadata": {},
   "outputs": [
    {
     "data": {
      "text/html": [
       "<div>\n",
       "<style scoped>\n",
       "    .dataframe tbody tr th:only-of-type {\n",
       "        vertical-align: middle;\n",
       "    }\n",
       "\n",
       "    .dataframe tbody tr th {\n",
       "        vertical-align: top;\n",
       "    }\n",
       "\n",
       "    .dataframe thead th {\n",
       "        text-align: right;\n",
       "    }\n",
       "</style>\n",
       "<table border=\"1\" class=\"dataframe\">\n",
       "  <thead>\n",
       "    <tr style=\"text-align: right;\">\n",
       "      <th></th>\n",
       "      <th>x</th>\n",
       "      <th>y</th>\n",
       "      <th>City</th>\n",
       "    </tr>\n",
       "  </thead>\n",
       "  <tbody>\n",
       "    <tr>\n",
       "      <th>0</th>\n",
       "      <td>5.500000e-08</td>\n",
       "      <td>9.860000e-09</td>\n",
       "      <td>1</td>\n",
       "    </tr>\n",
       "    <tr>\n",
       "      <th>1</th>\n",
       "      <td>-2.887330e+01</td>\n",
       "      <td>-7.980000e-08</td>\n",
       "      <td>2</td>\n",
       "    </tr>\n",
       "    <tr>\n",
       "      <th>2</th>\n",
       "      <td>-7.929160e+01</td>\n",
       "      <td>-2.140330e+01</td>\n",
       "      <td>3</td>\n",
       "    </tr>\n",
       "    <tr>\n",
       "      <th>3</th>\n",
       "      <td>-1.465770e+01</td>\n",
       "      <td>-4.338960e+01</td>\n",
       "      <td>4</td>\n",
       "    </tr>\n",
       "    <tr>\n",
       "      <th>4</th>\n",
       "      <td>-6.474730e+01</td>\n",
       "      <td>2.189820e+01</td>\n",
       "      <td>5</td>\n",
       "    </tr>\n",
       "    <tr>\n",
       "      <th>5</th>\n",
       "      <td>-2.905850e+01</td>\n",
       "      <td>-4.321670e+01</td>\n",
       "      <td>6</td>\n",
       "    </tr>\n",
       "    <tr>\n",
       "      <th>6</th>\n",
       "      <td>-7.207850e+01</td>\n",
       "      <td>1.815810e-01</td>\n",
       "      <td>7</td>\n",
       "    </tr>\n",
       "    <tr>\n",
       "      <th>7</th>\n",
       "      <td>-3.603660e+01</td>\n",
       "      <td>-2.161350e+01</td>\n",
       "      <td>8</td>\n",
       "    </tr>\n",
       "    <tr>\n",
       "      <th>8</th>\n",
       "      <td>-5.048080e+01</td>\n",
       "      <td>7.374470e+00</td>\n",
       "      <td>9</td>\n",
       "    </tr>\n",
       "    <tr>\n",
       "      <th>9</th>\n",
       "      <td>-5.058590e+01</td>\n",
       "      <td>-2.158820e+01</td>\n",
       "      <td>10</td>\n",
       "    </tr>\n",
       "    <tr>\n",
       "      <th>10</th>\n",
       "      <td>-1.358190e-01</td>\n",
       "      <td>-2.872930e+01</td>\n",
       "      <td>11</td>\n",
       "    </tr>\n",
       "    <tr>\n",
       "      <th>11</th>\n",
       "      <td>-6.508660e+01</td>\n",
       "      <td>-3.606250e+01</td>\n",
       "      <td>12</td>\n",
       "    </tr>\n",
       "    <tr>\n",
       "      <th>12</th>\n",
       "      <td>-2.149830e+01</td>\n",
       "      <td>7.319420e+00</td>\n",
       "      <td>13</td>\n",
       "    </tr>\n",
       "    <tr>\n",
       "      <th>13</th>\n",
       "      <td>-5.756870e+01</td>\n",
       "      <td>-4.325060e+01</td>\n",
       "      <td>14</td>\n",
       "    </tr>\n",
       "    <tr>\n",
       "      <th>14</th>\n",
       "      <td>-4.307000e+01</td>\n",
       "      <td>1.455480e+01</td>\n",
       "      <td>15</td>\n",
       "    </tr>\n",
       "  </tbody>\n",
       "</table>\n",
       "</div>"
      ],
      "text/plain": [
       "               x             y  City\n",
       "0   5.500000e-08  9.860000e-09     1\n",
       "1  -2.887330e+01 -7.980000e-08     2\n",
       "2  -7.929160e+01 -2.140330e+01     3\n",
       "3  -1.465770e+01 -4.338960e+01     4\n",
       "4  -6.474730e+01  2.189820e+01     5\n",
       "5  -2.905850e+01 -4.321670e+01     6\n",
       "6  -7.207850e+01  1.815810e-01     7\n",
       "7  -3.603660e+01 -2.161350e+01     8\n",
       "8  -5.048080e+01  7.374470e+00     9\n",
       "9  -5.058590e+01 -2.158820e+01    10\n",
       "10 -1.358190e-01 -2.872930e+01    11\n",
       "11 -6.508660e+01 -3.606250e+01    12\n",
       "12 -2.149830e+01  7.319420e+00    13\n",
       "13 -5.756870e+01 -4.325060e+01    14\n",
       "14 -4.307000e+01  1.455480e+01    15"
      ]
     },
     "execution_count": 2,
     "metadata": {},
     "output_type": "execute_result"
    }
   ],
   "source": [
    "data = pd.read_csv('15-Points.csv')\n",
    "data"
   ]
  },
  {
   "cell_type": "code",
   "execution_count": 3,
   "id": "d1849dee",
   "metadata": {},
   "outputs": [],
   "source": [
    "def calc_dist(x1, y1, x2, y2):\n",
    "    d = np.sqrt( ((x1-x2)**2) + ((y1-y2)**2) )\n",
    "    if d == 0:\n",
    "        d = math.inf\n",
    "    return d\n",
    "        \n",
    "    \n",
    "def dist_mat(data,n):\n",
    "    # key --> City name  ,  value --> distance between current column and all other columns\n",
    "    dic = {}            \n",
    "    for i in range(n):\n",
    "        cityName = data.City[i]\n",
    "        distance = []\n",
    "        for j in range(n):\n",
    "            distance.append(calc_dist(data.x[i], data.y[i], data.x[j], data.y[j]))\n",
    "        dic[cityName] = distance\n",
    "    return dic"
   ]
  },
  {
   "cell_type": "code",
   "execution_count": 8,
   "id": "5dde2b80",
   "metadata": {},
   "outputs": [],
   "source": [
    "n = data.shape[0]\n",
    "distances = dist_mat(data,n)"
   ]
  },
  {
   "cell_type": "code",
   "execution_count": 9,
   "id": "75a9c129",
   "metadata": {},
   "outputs": [],
   "source": [
    "def nearestNeighbour(df, matrix):\n",
    "    cost = []\n",
    "    current = df.City[0]\n",
    "    start = current\n",
    "    unvisited = list(*np.array([df.iloc[:,2]])) # store all the cities in the unvisited list\n",
    "    path = [current]\n",
    "    unvisited.remove(current)\n",
    "    \n",
    "    while len(unvisited):\n",
    "        nearest_city = np.argmin(matrix[current])  # return the index of the nearest city to the current city\n",
    "\n",
    "        # if the city already visited so assign its value to infinity to get the next nearest\n",
    "        if df.City[nearest_city] not in unvisited:\n",
    "            matrix[current][nearest_city] = math.inf\n",
    "            continue\n",
    "        \n",
    "        cost.append(matrix[current][nearest_city])\n",
    "        matrix[current][nearest_city] = math.inf\n",
    "        path.append(df.City[nearest_city])\n",
    "        current = df.City[nearest_city]\n",
    "        unvisited.remove(current)\n",
    "            \n",
    "    last_cost = np.sqrt(((df.x[0]-df.x[nearest_city])**2) + ((df.y[0]-df.y[nearest_city])**2) )\n",
    "    cost.append(last_cost)\n",
    "    path.append(start)\n",
    "    \n",
    "    return path, cost\n",
    "        "
   ]
  },
  {
   "cell_type": "code",
   "execution_count": 10,
   "id": "5035dfc7",
   "metadata": {},
   "outputs": [],
   "source": [
    "dict_copy = dist_mat(data, n)\n",
    "total_path, total_cost = nearestNeighbour(data, dict_copy)"
   ]
  },
  {
   "cell_type": "code",
   "execution_count": 11,
   "id": "c5351b75",
   "metadata": {},
   "outputs": [
    {
     "data": {
      "text/plain": [
       "[1, 13, 2, 15, 9, 5, 7, 3, 12, 14, 10, 8, 6, 4, 11, 1]"
      ]
     },
     "execution_count": 11,
     "metadata": {},
     "output_type": "execute_result"
    }
   ],
   "source": [
    "total_path"
   ]
  },
  {
   "cell_type": "code",
   "execution_count": 12,
   "id": "7bef4795",
   "metadata": {},
   "outputs": [
    {
     "data": {
      "text/plain": [
       "284.3810904080332"
      ]
     },
     "execution_count": 12,
     "metadata": {},
     "output_type": "execute_result"
    }
   ],
   "source": [
    "sum(total_cost)"
   ]
  },
  {
   "cell_type": "markdown",
   "id": "c48f2736",
   "metadata": {},
   "source": [
    "### Draw the path"
   ]
  },
  {
   "cell_type": "code",
   "execution_count": 13,
   "id": "667a66c6",
   "metadata": {},
   "outputs": [],
   "source": [
    "X = [data.x[i-1]  for i in total_path]\n",
    "Y = [data.y[i-1]  for i in total_path]"
   ]
  },
  {
   "cell_type": "code",
   "execution_count": 14,
   "id": "c17b5818",
   "metadata": {},
   "outputs": [],
   "source": [
    "%matplotlib inline"
   ]
  },
  {
   "cell_type": "code",
   "execution_count": 15,
   "id": "cea8600a",
   "metadata": {},
   "outputs": [
    {
     "data": {
      "image/png": "[encoded data removed]",
      "text/plain": [
       "<Figure size 432x288 with 1 Axes>"
      ]
     },
     "metadata": {
      "needs_background": "light"
     },
     "output_type": "display_data"
    }
   ],
   "source": [
    "plt.plot(X, Y, '-o')\n",
    "plt.title(f'Nearest Neighbor TSP Path with cost = {sum(total_cost)}')\n",
    "plt.xlabel('Longitude')\n",
    "plt.ylabel('Latitude')\n",
    "plt.grid()\n",
    "plt.show()"
   ]
  },
  {
   "cell_type": "markdown",
   "id": "c1c5ac07",
   "metadata": {},
   "source": [
    "### Try to use Matplotlib ginput"
   ]
  },
  {
   "cell_type": "code",
   "execution_count": 16,
   "id": "13fb7598",
   "metadata": {},
   "outputs": [],
   "source": [
    "%matplotlib qt\n",
    "# from matplotlib import rcParams\n",
    "# rcParams['figure.figsize'] = 10,5"
   ]
  },
  {
   "cell_type": "code",
   "execution_count": 19,
   "id": "a75bdd3a",
   "metadata": {},
   "outputs": [],
   "source": [
    "def ginput_fun():\n",
    "    points = []\n",
    "\n",
    "    # display a plot and wait for the user to click on num_points points\n",
    "    plt.title(f\"Enter points\")\n",
    "    plt.xlim(0, 10)\n",
    "    plt.ylim(0, 10)\n",
    "    plt.draw()\n",
    "\n",
    "    # take input fro\n",
    "    while True:\n",
    "        # get the first tuple (first point)\n",
    "        point = plt.ginput(1)\n",
    "        if point:\n",
    "            point=point[0]\n",
    "        else:\n",
    "            break\n",
    "#         print(point)\n",
    "        points.append(point)\n",
    "        plt.plot(point[0], point[1], 'go')\n",
    "        plt.draw()  \n",
    "        \n",
    "    # put the points into a dataframe\n",
    "    point_dicts = [{'x': point[0], 'y': point[1]} for point in points]\n",
    "    n=len(points)\n",
    "    city = [i+1 for i in range(n)]\n",
    "    data = pd.DataFrame(point_dicts)\n",
    "    data.insert(2, 'City', city)\n",
    "    \n",
    "    # calculate the distance matrix for the points\n",
    "    dic = dist_mat(data,n)\n",
    "    \n",
    "    # get the nearest neighbor\n",
    "    total_path, total_cost = nearestNeighbour(data, dic)\n",
    "    \n",
    "    # list of X points\n",
    "    X = [data.x[i-1]  for i in total_path]\n",
    "    \n",
    "    # list of y points\n",
    "    Y = [data.y[i-1]  for i in total_path]\n",
    "    \n",
    "    # list of tuples [(x, y)]\n",
    "    my_path = [(X[i], Y[i]) for i in range(len(X))]\n",
    "\n",
    "    \n",
    "    for i in range(len(my_path)+1):\n",
    "        try:\n",
    "            plt.plot([my_path[i][0], my_path[i+1][0]], [my_path[i][1], my_path[i+1][1]], '-o', color='green')\n",
    "            plt.pause(0.3)\n",
    "        except:\n",
    "            continue\n",
    "\n",
    "    plt.title(f'NNH (TSP) Path with distance = {sum(total_cost)}')\n",
    "    i = 1\n",
    "    for x, y in points:\n",
    "        plt.text(x, y+0.3 ,f'C{i}')\n",
    "        i+=1\n",
    "        \n",
    "    plt.xlabel('Longitude')\n",
    "    plt.ylabel('Latitude')\n",
    "    plt.show()    "
   ]
  },
  {
   "cell_type": "code",
   "execution_count": 20,
   "id": "3aadf7d5",
   "metadata": {},
   "outputs": [],
   "source": [
    "ginput_fun()"
   ]
  }
 ],
 "metadata": {
  "kernelspec": {
   "display_name": "Python 3",
   "language": "python",
   "name": "python3"
  },
  "language_info": {
   "codemirror_mode": {
    "name": "ipython",
    "version": 3
   },
   "file_extension": ".py",
   "mimetype": "text/x-python",
   "name": "python",
   "nbconvert_exporter": "python",
   "pygments_lexer": "ipython3",
   "version": "3.8.8"
  }
 },
 "nbformat": 4,
 "nbformat_minor": 5
}
